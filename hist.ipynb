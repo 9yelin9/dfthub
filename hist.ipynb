{
 "cells": [
  {
   "cell_type": "code",
   "execution_count": 1,
   "id": "1f3814c4-0410-4aa0-bf63-60f0032bbe90",
   "metadata": {},
   "outputs": [
    {
     "ename": "ValueError",
     "evalue": "Cannot find reference file `/home/yerin/dfthub/Pt/Pt_cell_o_HIST.nc`, at abs_path: `/home/yerin/dfthub/Pt/Pt_cell_o_HIST.nc`",
     "output_type": "error",
     "traceback": [
      "\u001b[0;31m---------------------------------------------------------------------------\u001b[0m",
      "\u001b[0;31mValueError\u001b[0m                                Traceback (most recent call last)",
      "Cell \u001b[0;32mIn[1], line 14\u001b[0m\n\u001b[1;32m     10\u001b[0m get_ipython()\u001b[38;5;241m.\u001b[39mrun_line_magic(\u001b[38;5;124m'\u001b[39m\u001b[38;5;124mmatplotlib\u001b[39m\u001b[38;5;124m'\u001b[39m, \u001b[38;5;124m'\u001b[39m\u001b[38;5;124minline\u001b[39m\u001b[38;5;124m'\u001b[39m)\n\u001b[1;32m     12\u001b[0m cwd \u001b[38;5;241m=\u001b[39m \u001b[38;5;124m'\u001b[39m\u001b[38;5;124m/home/yerin/dfthub/Pt\u001b[39m\u001b[38;5;124m'\u001b[39m\n\u001b[0;32m---> 14\u001b[0m hist \u001b[38;5;241m=\u001b[39m abilab\u001b[38;5;241m.\u001b[39mabiopen(\u001b[43mabidata\u001b[49m\u001b[38;5;241;43m.\u001b[39;49m\u001b[43mref_file\u001b[49m\u001b[43m(\u001b[49m\u001b[38;5;124;43mf\u001b[39;49m\u001b[38;5;124;43m'\u001b[39;49m\u001b[38;5;132;43;01m{\u001b[39;49;00m\u001b[43mcwd\u001b[49m\u001b[38;5;132;43;01m}\u001b[39;49;00m\u001b[38;5;124;43m/Pt_cell_o_HIST.nc\u001b[39;49m\u001b[38;5;124;43m'\u001b[39;49m\u001b[43m)\u001b[49m)\n\u001b[1;32m     15\u001b[0m \u001b[38;5;28mprint\u001b[39m(\u001b[38;5;124mf\u001b[39m\u001b[38;5;124m'\u001b[39m\u001b[38;5;124mNumber of iterations performed: \u001b[39m\u001b[38;5;132;01m{\u001b[39;00mhist\u001b[38;5;241m.\u001b[39mnum_steps\u001b[38;5;132;01m}\u001b[39;00m\u001b[38;5;124m'\u001b[39m)\n\u001b[1;32m     17\u001b[0m hist \u001b[38;5;241m=\u001b[39m abilab\u001b[38;5;241m.\u001b[39mabiopen(abidata\u001b[38;5;241m.\u001b[39mref_file(\u001b[38;5;124mf\u001b[39m\u001b[38;5;124m'\u001b[39m\u001b[38;5;132;01m{\u001b[39;00mcwd\u001b[38;5;132;01m}\u001b[39;00m\u001b[38;5;124m/Pt_cell_o_HIST.nc\u001b[39m\u001b[38;5;124m'\u001b[39m))\n",
      "File \u001b[0;32m~/.local/lib/python3.12/site-packages/abipy/data/__init__.py:139\u001b[0m, in \u001b[0;36mref_file\u001b[0;34m(basename)\u001b[0m\n\u001b[1;32m    137\u001b[0m path \u001b[38;5;241m=\u001b[39m os\u001b[38;5;241m.\u001b[39mpath\u001b[38;5;241m.\u001b[39mjoin(dirpath, basename)\n\u001b[1;32m    138\u001b[0m \u001b[38;5;28;01mif\u001b[39;00m \u001b[38;5;129;01mnot\u001b[39;00m os\u001b[38;5;241m.\u001b[39mpath\u001b[38;5;241m.\u001b[39mexists(path):\n\u001b[0;32m--> 139\u001b[0m     \u001b[38;5;28;01mraise\u001b[39;00m \u001b[38;5;167;01mValueError\u001b[39;00m(\u001b[38;5;124m\"\u001b[39m\u001b[38;5;124mCannot find reference file `\u001b[39m\u001b[38;5;132;01m%s\u001b[39;00m\u001b[38;5;124m`, at abs_path: `\u001b[39m\u001b[38;5;132;01m%s\u001b[39;00m\u001b[38;5;124m`\u001b[39m\u001b[38;5;124m\"\u001b[39m \u001b[38;5;241m%\u001b[39m (basename, path))\n\u001b[1;32m    140\u001b[0m \u001b[38;5;28;01mreturn\u001b[39;00m path\n",
      "\u001b[0;31mValueError\u001b[0m: Cannot find reference file `/home/yerin/dfthub/Pt/Pt_cell_o_HIST.nc`, at abs_path: `/home/yerin/dfthub/Pt/Pt_cell_o_HIST.nc`"
     ]
    }
   ],
   "source": [
    "# Use this at the beginning of your script so that your code will be compatible with python3\n",
    "from __future__ import print_function, division, unicode_literals\n",
    "\n",
    "from abipy import abilab\n",
    "abilab.enable_notebook() # This line tells AbiPy we are running inside a notebook\n",
    "import abipy.data as abidata\n",
    "\n",
    "# This line configures matplotlib to show figures embedded in the notebook.\n",
    "# Replace `inline` with `notebook` in classic notebook\n",
    "%matplotlib inline   \n",
    "\n",
    "cwd = '/home/yerin/dfthub/Pt'\n",
    "\n",
    "hist = abilab.abiopen(abidata.ref_file(f'{cwd}/Pt_cell_o_HIST.nc'))\n",
    "print(f'Number of iterations performed: {hist.num_steps}')\n",
    "\n",
    "hist = abilab.abiopen(abidata.ref_file(f'{cwd}/Pt_cell_o_HIST.nc'))\n",
    "print(f'Number of iterations performed: {hist.num_steps}')\n",
    "\n",
    "print(hist.final_structure)\n",
    "\n",
    "hist = abilab.abiopen(abidata.ref_file(f'{cwd}/Pt_cell_o_HIST.nc'))\n",
    "print(f'Number of iterations performed: {hist.num_steps}')\n",
    "\n",
    "hist.plot_energies();"
   ]
  }
 ],
 "metadata": {
  "kernelspec": {
   "display_name": "Python 3 (ipykernel)",
   "language": "python",
   "name": "python3"
  },
  "language_info": {
   "codemirror_mode": {
    "name": "ipython",
    "version": 3
   },
   "file_extension": ".py",
   "mimetype": "text/x-python",
   "name": "python",
   "nbconvert_exporter": "python",
   "pygments_lexer": "ipython3",
   "version": "3.12.4"
  }
 },
 "nbformat": 4,
 "nbformat_minor": 5
}
